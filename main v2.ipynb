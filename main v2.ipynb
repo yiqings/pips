{
 "cells": [
  {
   "cell_type": "code",
   "execution_count": null,
   "metadata": {},
   "outputs": [],
   "source": [
    "from path_dataloader import WSIData\n",
    "from PSO import PSO\n",
    "from formula import PSO_train\n",
    "import time\n",
    "\n",
    "import torch\n",
    "import torchvision.transforms as transforms\n",
    "import os\n",
    "os.environ['CUDA_VISIBLE_DEVICES']='0'\n",
    "begin_time=time.time()\n",
    "dataset_path='/root/autodl-tmp/data/lung/lung_colon_image_set/lung_image_sets'\n",
    "p_train=0.8 # the part that training data is\n",
    "batch_size=32\n",
    "Num_worker=11\n",
    "particle_num=4\n",
    "generation_num=10\n",
    "training_epoch=5\n",
    "\n",
    "# Dataset preparation\n",
    "transform_train = transforms.Compose([\n",
    "    transforms.RandomCrop((200,200)),\n",
    "    transforms.Resize((224,224)),\n",
    "    transforms.RandomHorizontalFlip(),\n",
    "    transforms.ToTensor(),\n",
    "])\n",
    "transform_test = transforms.Compose([\n",
    "    transforms.ToTensor(),\n",
    "])\n",
    "\n",
    "dataset=WSIData(file_path=dataset_path,data_name=\"lc25000\",transform=transform_train,test_flag=0,img_color_space=\"lab\")\n",
    "dataset.get_detailed_info()\n",
    "dataset.get_class_count()\n",
    "\n",
    "train_size, test_size = int(p_train * len(dataset)), int((len(dataset)-int(p_train * len(dataset))))\n",
    "print(train_size, test_size)\n",
    "\n",
    "trainset, testset= torch.utils.data.random_split(dataset, [train_size, test_size])\n",
    "trainloader = torch.utils.data.DataLoader(trainset, shuffle =True, batch_size=batch_size,num_workers=Num_worker,drop_last=True) \n",
    "testloader = torch.utils.data.DataLoader(testset, shuffle = False,num_workers=Num_worker,batch_size=128,drop_last=True)\n",
    "print(\"Datasets have been loaded\")\n",
    "\n",
    "# PSO generation\n",
    "group=PSO(part_num=particle_num,dim=7,minn=0,maxn=128,maxv=10,c1=2,c2=2)\n",
    "group.info_print()\n",
    "\n",
    "\n",
    "# Info output at the end of processing\n",
    "\n",
    "\n",
    "\n",
    "\n",
    "\n",
    "\n"
   ]
  },
  {
   "cell_type": "code",
   "execution_count": null,
   "metadata": {},
   "outputs": [],
   "source": [
    "for i in range(generation_num):\n",
    "    PSO_train(group,trainloader,testloader,start_training=1, epoch=training_epoch)\n",
    "    group.update()\n",
    "    group.info_print()\n",
    "print(\"Total time: \", time.time()-begin_time)    \n",
    "for i in group.group:\n",
    "    print(i.histo)\n",
    "    "
   ]
  }
 ],
 "metadata": {
  "kernelspec": {
   "display_name": "base",
   "language": "python",
   "name": "python3"
  },
  "language_info": {
   "codemirror_mode": {
    "name": "ipython",
    "version": 3
   },
   "file_extension": ".py",
   "mimetype": "text/x-python",
   "name": "python",
   "nbconvert_exporter": "python",
   "pygments_lexer": "ipython3",
   "version": "3.8.10"
  }
 },
 "nbformat": 4,
 "nbformat_minor": 2
}
